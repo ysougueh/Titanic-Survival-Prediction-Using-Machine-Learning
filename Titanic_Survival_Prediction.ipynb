{
  "nbformat": 4,
  "nbformat_minor": 0,
  "metadata": {
    "colab": {
      "name": "Titanic Survival Prediction.ipynb",
      "provenance": [],
      "collapsed_sections": [],
      "include_colab_link": true
    },
    "kernelspec": {
      "name": "python3",
      "display_name": "Python 3"
    }
  },
  "cells": [
    {
      "cell_type": "markdown",
      "metadata": {
        "id": "view-in-github",
        "colab_type": "text"
      },
      "source": [
        "<a href=\"https://colab.research.google.com/github/ysougueh/Titanic-Survival-Prediction-Using-Machine-Learning/blob/master/Titanic_Survival_Prediction.ipynb\" target=\"_parent\"><img src=\"https://colab.research.google.com/assets/colab-badge.svg\" alt=\"Open In Colab\"/></a>"
      ]
    },
    {
      "cell_type": "markdown",
      "metadata": {
        "id": "NAQbjVrltpV3",
        "colab_type": "text"
      },
      "source": [
        "# **Titanic Survival Prediction Using Machine Learning**"
      ]
    },
    {
      "cell_type": "code",
      "metadata": {
        "id": "CQeMMUCiYIyz",
        "colab_type": "code",
        "colab": {}
      },
      "source": [
        "#Import Libraries\n",
        "import numpy as np\n",
        "import pandas as pd\n",
        "import seaborn as sns\n",
        "import matplotlib.pyplot as plt"
      ],
      "execution_count": 0,
      "outputs": []
    },
    {
      "cell_type": "code",
      "metadata": {
        "id": "LFHIUEBKYTIP",
        "colab_type": "code",
        "outputId": "f0ae8272-e9c8-4af5-edf5-7369faf57b78",
        "colab": {
          "base_uri": "https://localhost:8080/",
          "height": 363
        }
      },
      "source": [
        "#Load the data\n",
        "titanic = sns.load_dataset('titanic')\n",
        "#Print the first 10 rows of data\n",
        "titanic.head(10)"
      ],
      "execution_count": 0,
      "outputs": [
        {
          "output_type": "execute_result",
          "data": {
            "text/html": [
              "<div>\n",
              "<style scoped>\n",
              "    .dataframe tbody tr th:only-of-type {\n",
              "        vertical-align: middle;\n",
              "    }\n",
              "\n",
              "    .dataframe tbody tr th {\n",
              "        vertical-align: top;\n",
              "    }\n",
              "\n",
              "    .dataframe thead th {\n",
              "        text-align: right;\n",
              "    }\n",
              "</style>\n",
              "<table border=\"1\" class=\"dataframe\">\n",
              "  <thead>\n",
              "    <tr style=\"text-align: right;\">\n",
              "      <th></th>\n",
              "      <th>survived</th>\n",
              "      <th>pclass</th>\n",
              "      <th>sex</th>\n",
              "      <th>age</th>\n",
              "      <th>sibsp</th>\n",
              "      <th>parch</th>\n",
              "      <th>fare</th>\n",
              "      <th>embarked</th>\n",
              "      <th>class</th>\n",
              "      <th>who</th>\n",
              "      <th>adult_male</th>\n",
              "      <th>deck</th>\n",
              "      <th>embark_town</th>\n",
              "      <th>alive</th>\n",
              "      <th>alone</th>\n",
              "    </tr>\n",
              "  </thead>\n",
              "  <tbody>\n",
              "    <tr>\n",
              "      <th>0</th>\n",
              "      <td>0</td>\n",
              "      <td>3</td>\n",
              "      <td>male</td>\n",
              "      <td>22.0</td>\n",
              "      <td>1</td>\n",
              "      <td>0</td>\n",
              "      <td>7.2500</td>\n",
              "      <td>S</td>\n",
              "      <td>Third</td>\n",
              "      <td>man</td>\n",
              "      <td>True</td>\n",
              "      <td>NaN</td>\n",
              "      <td>Southampton</td>\n",
              "      <td>no</td>\n",
              "      <td>False</td>\n",
              "    </tr>\n",
              "    <tr>\n",
              "      <th>1</th>\n",
              "      <td>1</td>\n",
              "      <td>1</td>\n",
              "      <td>female</td>\n",
              "      <td>38.0</td>\n",
              "      <td>1</td>\n",
              "      <td>0</td>\n",
              "      <td>71.2833</td>\n",
              "      <td>C</td>\n",
              "      <td>First</td>\n",
              "      <td>woman</td>\n",
              "      <td>False</td>\n",
              "      <td>C</td>\n",
              "      <td>Cherbourg</td>\n",
              "      <td>yes</td>\n",
              "      <td>False</td>\n",
              "    </tr>\n",
              "    <tr>\n",
              "      <th>2</th>\n",
              "      <td>1</td>\n",
              "      <td>3</td>\n",
              "      <td>female</td>\n",
              "      <td>26.0</td>\n",
              "      <td>0</td>\n",
              "      <td>0</td>\n",
              "      <td>7.9250</td>\n",
              "      <td>S</td>\n",
              "      <td>Third</td>\n",
              "      <td>woman</td>\n",
              "      <td>False</td>\n",
              "      <td>NaN</td>\n",
              "      <td>Southampton</td>\n",
              "      <td>yes</td>\n",
              "      <td>True</td>\n",
              "    </tr>\n",
              "    <tr>\n",
              "      <th>3</th>\n",
              "      <td>1</td>\n",
              "      <td>1</td>\n",
              "      <td>female</td>\n",
              "      <td>35.0</td>\n",
              "      <td>1</td>\n",
              "      <td>0</td>\n",
              "      <td>53.1000</td>\n",
              "      <td>S</td>\n",
              "      <td>First</td>\n",
              "      <td>woman</td>\n",
              "      <td>False</td>\n",
              "      <td>C</td>\n",
              "      <td>Southampton</td>\n",
              "      <td>yes</td>\n",
              "      <td>False</td>\n",
              "    </tr>\n",
              "    <tr>\n",
              "      <th>4</th>\n",
              "      <td>0</td>\n",
              "      <td>3</td>\n",
              "      <td>male</td>\n",
              "      <td>35.0</td>\n",
              "      <td>0</td>\n",
              "      <td>0</td>\n",
              "      <td>8.0500</td>\n",
              "      <td>S</td>\n",
              "      <td>Third</td>\n",
              "      <td>man</td>\n",
              "      <td>True</td>\n",
              "      <td>NaN</td>\n",
              "      <td>Southampton</td>\n",
              "      <td>no</td>\n",
              "      <td>True</td>\n",
              "    </tr>\n",
              "    <tr>\n",
              "      <th>5</th>\n",
              "      <td>0</td>\n",
              "      <td>3</td>\n",
              "      <td>male</td>\n",
              "      <td>NaN</td>\n",
              "      <td>0</td>\n",
              "      <td>0</td>\n",
              "      <td>8.4583</td>\n",
              "      <td>Q</td>\n",
              "      <td>Third</td>\n",
              "      <td>man</td>\n",
              "      <td>True</td>\n",
              "      <td>NaN</td>\n",
              "      <td>Queenstown</td>\n",
              "      <td>no</td>\n",
              "      <td>True</td>\n",
              "    </tr>\n",
              "    <tr>\n",
              "      <th>6</th>\n",
              "      <td>0</td>\n",
              "      <td>1</td>\n",
              "      <td>male</td>\n",
              "      <td>54.0</td>\n",
              "      <td>0</td>\n",
              "      <td>0</td>\n",
              "      <td>51.8625</td>\n",
              "      <td>S</td>\n",
              "      <td>First</td>\n",
              "      <td>man</td>\n",
              "      <td>True</td>\n",
              "      <td>E</td>\n",
              "      <td>Southampton</td>\n",
              "      <td>no</td>\n",
              "      <td>True</td>\n",
              "    </tr>\n",
              "    <tr>\n",
              "      <th>7</th>\n",
              "      <td>0</td>\n",
              "      <td>3</td>\n",
              "      <td>male</td>\n",
              "      <td>2.0</td>\n",
              "      <td>3</td>\n",
              "      <td>1</td>\n",
              "      <td>21.0750</td>\n",
              "      <td>S</td>\n",
              "      <td>Third</td>\n",
              "      <td>child</td>\n",
              "      <td>False</td>\n",
              "      <td>NaN</td>\n",
              "      <td>Southampton</td>\n",
              "      <td>no</td>\n",
              "      <td>False</td>\n",
              "    </tr>\n",
              "    <tr>\n",
              "      <th>8</th>\n",
              "      <td>1</td>\n",
              "      <td>3</td>\n",
              "      <td>female</td>\n",
              "      <td>27.0</td>\n",
              "      <td>0</td>\n",
              "      <td>2</td>\n",
              "      <td>11.1333</td>\n",
              "      <td>S</td>\n",
              "      <td>Third</td>\n",
              "      <td>woman</td>\n",
              "      <td>False</td>\n",
              "      <td>NaN</td>\n",
              "      <td>Southampton</td>\n",
              "      <td>yes</td>\n",
              "      <td>False</td>\n",
              "    </tr>\n",
              "    <tr>\n",
              "      <th>9</th>\n",
              "      <td>1</td>\n",
              "      <td>2</td>\n",
              "      <td>female</td>\n",
              "      <td>14.0</td>\n",
              "      <td>1</td>\n",
              "      <td>0</td>\n",
              "      <td>30.0708</td>\n",
              "      <td>C</td>\n",
              "      <td>Second</td>\n",
              "      <td>child</td>\n",
              "      <td>False</td>\n",
              "      <td>NaN</td>\n",
              "      <td>Cherbourg</td>\n",
              "      <td>yes</td>\n",
              "      <td>False</td>\n",
              "    </tr>\n",
              "  </tbody>\n",
              "</table>\n",
              "</div>"
            ],
            "text/plain": [
              "   survived  pclass     sex   age  ...  deck  embark_town  alive  alone\n",
              "0         0       3    male  22.0  ...   NaN  Southampton     no  False\n",
              "1         1       1  female  38.0  ...     C    Cherbourg    yes  False\n",
              "2         1       3  female  26.0  ...   NaN  Southampton    yes   True\n",
              "3         1       1  female  35.0  ...     C  Southampton    yes  False\n",
              "4         0       3    male  35.0  ...   NaN  Southampton     no   True\n",
              "5         0       3    male   NaN  ...   NaN   Queenstown     no   True\n",
              "6         0       1    male  54.0  ...     E  Southampton     no   True\n",
              "7         0       3    male   2.0  ...   NaN  Southampton     no  False\n",
              "8         1       3  female  27.0  ...   NaN  Southampton    yes  False\n",
              "9         1       2  female  14.0  ...   NaN    Cherbourg    yes  False\n",
              "\n",
              "[10 rows x 15 columns]"
            ]
          },
          "metadata": {
            "tags": []
          },
          "execution_count": 180
        }
      ]
    },
    {
      "cell_type": "code",
      "metadata": {
        "id": "3Gk0sgYMnfpk",
        "colab_type": "code",
        "colab": {}
      },
      "source": [
        ""
      ],
      "execution_count": 0,
      "outputs": []
    },
    {
      "cell_type": "code",
      "metadata": {
        "id": "zoUzMnDRZvXU",
        "colab_type": "code",
        "outputId": "57821610-513f-4fb6-dbb0-85dcb765cfc4",
        "colab": {
          "base_uri": "https://localhost:8080/",
          "height": 36
        }
      },
      "source": [
        "#Count the number of rows and columns in the data set\n",
        "titanic.shape"
      ],
      "execution_count": 0,
      "outputs": [
        {
          "output_type": "execute_result",
          "data": {
            "text/plain": [
              "(891, 15)"
            ]
          },
          "metadata": {
            "tags": []
          },
          "execution_count": 181
        }
      ]
    },
    {
      "cell_type": "code",
      "metadata": {
        "id": "JxgHKF7QaVrP",
        "colab_type": "code",
        "outputId": "e0331359-70c0-4a34-cb44-b7a5259708fc",
        "colab": {
          "base_uri": "https://localhost:8080/",
          "height": 300
        }
      },
      "source": [
        "titanic.describe()"
      ],
      "execution_count": 0,
      "outputs": [
        {
          "output_type": "execute_result",
          "data": {
            "text/html": [
              "<div>\n",
              "<style scoped>\n",
              "    .dataframe tbody tr th:only-of-type {\n",
              "        vertical-align: middle;\n",
              "    }\n",
              "\n",
              "    .dataframe tbody tr th {\n",
              "        vertical-align: top;\n",
              "    }\n",
              "\n",
              "    .dataframe thead th {\n",
              "        text-align: right;\n",
              "    }\n",
              "</style>\n",
              "<table border=\"1\" class=\"dataframe\">\n",
              "  <thead>\n",
              "    <tr style=\"text-align: right;\">\n",
              "      <th></th>\n",
              "      <th>survived</th>\n",
              "      <th>pclass</th>\n",
              "      <th>age</th>\n",
              "      <th>sibsp</th>\n",
              "      <th>parch</th>\n",
              "      <th>fare</th>\n",
              "    </tr>\n",
              "  </thead>\n",
              "  <tbody>\n",
              "    <tr>\n",
              "      <th>count</th>\n",
              "      <td>891.000000</td>\n",
              "      <td>891.000000</td>\n",
              "      <td>714.000000</td>\n",
              "      <td>891.000000</td>\n",
              "      <td>891.000000</td>\n",
              "      <td>891.000000</td>\n",
              "    </tr>\n",
              "    <tr>\n",
              "      <th>mean</th>\n",
              "      <td>0.383838</td>\n",
              "      <td>2.308642</td>\n",
              "      <td>29.699118</td>\n",
              "      <td>0.523008</td>\n",
              "      <td>0.381594</td>\n",
              "      <td>32.204208</td>\n",
              "    </tr>\n",
              "    <tr>\n",
              "      <th>std</th>\n",
              "      <td>0.486592</td>\n",
              "      <td>0.836071</td>\n",
              "      <td>14.526497</td>\n",
              "      <td>1.102743</td>\n",
              "      <td>0.806057</td>\n",
              "      <td>49.693429</td>\n",
              "    </tr>\n",
              "    <tr>\n",
              "      <th>min</th>\n",
              "      <td>0.000000</td>\n",
              "      <td>1.000000</td>\n",
              "      <td>0.420000</td>\n",
              "      <td>0.000000</td>\n",
              "      <td>0.000000</td>\n",
              "      <td>0.000000</td>\n",
              "    </tr>\n",
              "    <tr>\n",
              "      <th>25%</th>\n",
              "      <td>0.000000</td>\n",
              "      <td>2.000000</td>\n",
              "      <td>20.125000</td>\n",
              "      <td>0.000000</td>\n",
              "      <td>0.000000</td>\n",
              "      <td>7.910400</td>\n",
              "    </tr>\n",
              "    <tr>\n",
              "      <th>50%</th>\n",
              "      <td>0.000000</td>\n",
              "      <td>3.000000</td>\n",
              "      <td>28.000000</td>\n",
              "      <td>0.000000</td>\n",
              "      <td>0.000000</td>\n",
              "      <td>14.454200</td>\n",
              "    </tr>\n",
              "    <tr>\n",
              "      <th>75%</th>\n",
              "      <td>1.000000</td>\n",
              "      <td>3.000000</td>\n",
              "      <td>38.000000</td>\n",
              "      <td>1.000000</td>\n",
              "      <td>0.000000</td>\n",
              "      <td>31.000000</td>\n",
              "    </tr>\n",
              "    <tr>\n",
              "      <th>max</th>\n",
              "      <td>1.000000</td>\n",
              "      <td>3.000000</td>\n",
              "      <td>80.000000</td>\n",
              "      <td>8.000000</td>\n",
              "      <td>6.000000</td>\n",
              "      <td>512.329200</td>\n",
              "    </tr>\n",
              "  </tbody>\n",
              "</table>\n",
              "</div>"
            ],
            "text/plain": [
              "         survived      pclass         age       sibsp       parch        fare\n",
              "count  891.000000  891.000000  714.000000  891.000000  891.000000  891.000000\n",
              "mean     0.383838    2.308642   29.699118    0.523008    0.381594   32.204208\n",
              "std      0.486592    0.836071   14.526497    1.102743    0.806057   49.693429\n",
              "min      0.000000    1.000000    0.420000    0.000000    0.000000    0.000000\n",
              "25%      0.000000    2.000000   20.125000    0.000000    0.000000    7.910400\n",
              "50%      0.000000    3.000000   28.000000    0.000000    0.000000   14.454200\n",
              "75%      1.000000    3.000000   38.000000    1.000000    0.000000   31.000000\n",
              "max      1.000000    3.000000   80.000000    8.000000    6.000000  512.329200"
            ]
          },
          "metadata": {
            "tags": []
          },
          "execution_count": 182
        }
      ]
    },
    {
      "cell_type": "code",
      "metadata": {
        "id": "84jRyOSdaaJI",
        "colab_type": "code",
        "outputId": "b969cf85-0d90-4843-843e-40ac6dbd8a36",
        "colab": {
          "base_uri": "https://localhost:8080/",
          "height": 73
        }
      },
      "source": [
        "titanic['survived'].value_counts()"
      ],
      "execution_count": 0,
      "outputs": [
        {
          "output_type": "execute_result",
          "data": {
            "text/plain": [
              "0    549\n",
              "1    342\n",
              "Name: survived, dtype: int64"
            ]
          },
          "metadata": {
            "tags": []
          },
          "execution_count": 183
        }
      ]
    },
    {
      "cell_type": "code",
      "metadata": {
        "id": "4BAtrP-5nl8N",
        "colab_type": "code",
        "outputId": "bb612002-56cc-44f0-9f62-55d63aa8a7a4",
        "colab": {
          "base_uri": "https://localhost:8080/",
          "height": 298
        }
      },
      "source": [
        "#Visualize the count of number of survivors\n",
        "sns.countplot(titanic['survived'],label=\"Count\")"
      ],
      "execution_count": 0,
      "outputs": [
        {
          "output_type": "execute_result",
          "data": {
            "text/plain": [
              "<matplotlib.axes._subplots.AxesSubplot at 0x7f01d8953cf8>"
            ]
          },
          "metadata": {
            "tags": []
          },
          "execution_count": 184
        },
        {
          "output_type": "display_data",
          "data": {
            "image/png": "[encoded data removed]",
            "text/plain": [
              "<Figure size 432x288 with 1 Axes>"
            ]
          },
          "metadata": {
            "tags": []
          }
        }
      ]
    },
    {
      "cell_type": "code",
      "metadata": {
        "id": "HTBmrXBynmOF",
        "colab_type": "code",
        "outputId": "2b561613-2f36-4bc4-99a5-7bc472dbf08f",
        "colab": {
          "base_uri": "https://localhost:8080/",
          "height": 470
        }
      },
      "source": [
        "\n",
        "\n",
        "# Visualize the count of survivors for columns 'who', 'sex', 'pclass', 'sibsp', 'parch', and 'embarked'\n",
        "cols = ['who', 'sex', 'pclass', 'sibsp', 'parch', 'embarked']\n",
        "\n",
        "n_rows = 2\n",
        "n_cols = 3\n",
        "\n",
        "#Number of rows/columns of the subplot grid and the figure size of each graph\n",
        "#NOTE: This returns a Figure (fig) and an Axes Object (axs)\n",
        "fig, axs = plt.subplots(n_rows, n_cols, figsize=(n_cols*3.2,n_rows*3.2))\n",
        "\n",
        "for r in range(0,n_rows):\n",
        "    for c in range(0,n_cols):  \n",
        "        \n",
        "        i = r*n_cols+ c #index to go through the number of columns       \n",
        "        ax = axs[r][c] #Show where to position each subplot\n",
        "        sns.countplot(titanic[cols[i]], hue=titanic[\"survived\"], ax=ax)\n",
        "        ax.set_title(cols[i])\n",
        "        ax.legend(title=\"survived\", loc='upper right') \n",
        "        \n",
        "plt.tight_layout()   #tight_layout automatically adjusts subplot params so that the subplot(s) fits in to the figure area"
      ],
      "execution_count": 0,
      "outputs": [
        {
          "output_type": "display_data",
          "data": {
            "image/png": "[encoded data removed]",
            "text/plain": [
              "<Figure size 691.2x460.8 with 6 Axes>"
            ]
          },
          "metadata": {
            "tags": []
          }
        }
      ]
    },
    {
      "cell_type": "code",
      "metadata": {
        "id": "tvTnoQSIn3ok",
        "colab_type": "code",
        "outputId": "50da5542-cac1-445b-b76f-dc3d8e5d1aad",
        "colab": {
          "base_uri": "https://localhost:8080/",
          "height": 143
        }
      },
      "source": [
        "#Look at survival rate by sex\n",
        "titanic.groupby('sex')[['survived']].mean()"
      ],
      "execution_count": 0,
      "outputs": [
        {
          "output_type": "execute_result",
          "data": {
            "text/html": [
              "<div>\n",
              "<style scoped>\n",
              "    .dataframe tbody tr th:only-of-type {\n",
              "        vertical-align: middle;\n",
              "    }\n",
              "\n",
              "    .dataframe tbody tr th {\n",
              "        vertical-align: top;\n",
              "    }\n",
              "\n",
              "    .dataframe thead th {\n",
              "        text-align: right;\n",
              "    }\n",
              "</style>\n",
              "<table border=\"1\" class=\"dataframe\">\n",
              "  <thead>\n",
              "    <tr style=\"text-align: right;\">\n",
              "      <th></th>\n",
              "      <th>survived</th>\n",
              "    </tr>\n",
              "    <tr>\n",
              "      <th>sex</th>\n",
              "      <th></th>\n",
              "    </tr>\n",
              "  </thead>\n",
              "  <tbody>\n",
              "    <tr>\n",
              "      <th>female</th>\n",
              "      <td>0.742038</td>\n",
              "    </tr>\n",
              "    <tr>\n",
              "      <th>male</th>\n",
              "      <td>0.188908</td>\n",
              "    </tr>\n",
              "  </tbody>\n",
              "</table>\n",
              "</div>"
            ],
            "text/plain": [
              "        survived\n",
              "sex             \n",
              "female  0.742038\n",
              "male    0.188908"
            ]
          },
          "metadata": {
            "tags": []
          },
          "execution_count": 186
        }
      ]
    },
    {
      "cell_type": "code",
      "metadata": {
        "id": "OcYW-fCjn7OK",
        "colab_type": "code",
        "outputId": "579eab7f-21ba-4885-890d-6b30af49e970",
        "colab": {
          "base_uri": "https://localhost:8080/",
          "height": 143
        }
      },
      "source": [
        "#Look at survival rate by sex and class\n",
        "titanic.pivot_table('survived', index='sex', columns='class')"
      ],
      "execution_count": 0,
      "outputs": [
        {
          "output_type": "execute_result",
          "data": {
            "text/html": [
              "<div>\n",
              "<style scoped>\n",
              "    .dataframe tbody tr th:only-of-type {\n",
              "        vertical-align: middle;\n",
              "    }\n",
              "\n",
              "    .dataframe tbody tr th {\n",
              "        vertical-align: top;\n",
              "    }\n",
              "\n",
              "    .dataframe thead th {\n",
              "        text-align: right;\n",
              "    }\n",
              "</style>\n",
              "<table border=\"1\" class=\"dataframe\">\n",
              "  <thead>\n",
              "    <tr style=\"text-align: right;\">\n",
              "      <th>class</th>\n",
              "      <th>First</th>\n",
              "      <th>Second</th>\n",
              "      <th>Third</th>\n",
              "    </tr>\n",
              "    <tr>\n",
              "      <th>sex</th>\n",
              "      <th></th>\n",
              "      <th></th>\n",
              "      <th></th>\n",
              "    </tr>\n",
              "  </thead>\n",
              "  <tbody>\n",
              "    <tr>\n",
              "      <th>female</th>\n",
              "      <td>0.968085</td>\n",
              "      <td>0.921053</td>\n",
              "      <td>0.500000</td>\n",
              "    </tr>\n",
              "    <tr>\n",
              "      <th>male</th>\n",
              "      <td>0.368852</td>\n",
              "      <td>0.157407</td>\n",
              "      <td>0.135447</td>\n",
              "    </tr>\n",
              "  </tbody>\n",
              "</table>\n",
              "</div>"
            ],
            "text/plain": [
              "class      First    Second     Third\n",
              "sex                                 \n",
              "female  0.968085  0.921053  0.500000\n",
              "male    0.368852  0.157407  0.135447"
            ]
          },
          "metadata": {
            "tags": []
          },
          "execution_count": 187
        }
      ]
    },
    {
      "cell_type": "code",
      "metadata": {
        "id": "fuuXDv6Bn-HK",
        "colab_type": "code",
        "outputId": "6a5b28e4-2835-41eb-8264-db1b1569332b",
        "colab": {
          "base_uri": "https://localhost:8080/",
          "height": 300
        }
      },
      "source": [
        "#Look at survival rate by sex and class visually\n",
        "titanic.pivot_table('survived', index='sex', columns='class').plot()"
      ],
      "execution_count": 0,
      "outputs": [
        {
          "output_type": "execute_result",
          "data": {
            "text/plain": [
              "<matplotlib.axes._subplots.AxesSubplot at 0x7f01d8926b70>"
            ]
          },
          "metadata": {
            "tags": []
          },
          "execution_count": 188
        },
        {
          "output_type": "display_data",
          "data": {
            "image/png": "[encoded data removed]",
            "text/plain": [
              "<Figure size 432x288 with 1 Axes>"
            ]
          },
          "metadata": {
            "tags": []
          }
        }
      ]
    },
    {
      "cell_type": "code",
      "metadata": {
        "id": "SSlpiEtOoOfH",
        "colab_type": "code",
        "colab": {}
      },
      "source": [
        ""
      ],
      "execution_count": 0,
      "outputs": []
    },
    {
      "cell_type": "code",
      "metadata": {
        "id": "QW49VHTqoA6w",
        "colab_type": "code",
        "outputId": "688e485b-0681-4290-c1b5-f302f848cb99",
        "colab": {
          "base_uri": "https://localhost:8080/",
          "height": 298
        }
      },
      "source": [
        "#Plot the survival rate of each class.\n",
        "sns.barplot(x='class', y='survived', data=titanic)"
      ],
      "execution_count": 0,
      "outputs": [
        {
          "output_type": "execute_result",
          "data": {
            "text/plain": [
              "<matplotlib.axes._subplots.AxesSubplot at 0x7f01da6943c8>"
            ]
          },
          "metadata": {
            "tags": []
          },
          "execution_count": 189
        },
        {
          "output_type": "display_data",
          "data": {
            "image/png": "[encoded data removed]",
            "text/plain": [
              "<Figure size 432x288 with 1 Axes>"
            ]
          },
          "metadata": {
            "tags": []
          }
        }
      ]
    },
    {
      "cell_type": "code",
      "metadata": {
        "id": "WBSxsZmdoQUR",
        "colab_type": "code",
        "outputId": "d2f40c4d-6bae-469d-9668-be60b8740bae",
        "colab": {
          "base_uri": "https://localhost:8080/",
          "height": 206
        }
      },
      "source": [
        "#Look at survival rate by sex, age and class\n",
        "age = pd.cut(titanic['age'], [0, 18, 80])\n",
        "titanic.pivot_table('survived', ['sex', age], 'class')"
      ],
      "execution_count": 0,
      "outputs": [
        {
          "output_type": "execute_result",
          "data": {
            "text/html": [
              "<div>\n",
              "<style scoped>\n",
              "    .dataframe tbody tr th:only-of-type {\n",
              "        vertical-align: middle;\n",
              "    }\n",
              "\n",
              "    .dataframe tbody tr th {\n",
              "        vertical-align: top;\n",
              "    }\n",
              "\n",
              "    .dataframe thead th {\n",
              "        text-align: right;\n",
              "    }\n",
              "</style>\n",
              "<table border=\"1\" class=\"dataframe\">\n",
              "  <thead>\n",
              "    <tr style=\"text-align: right;\">\n",
              "      <th></th>\n",
              "      <th>class</th>\n",
              "      <th>First</th>\n",
              "      <th>Second</th>\n",
              "      <th>Third</th>\n",
              "    </tr>\n",
              "    <tr>\n",
              "      <th>sex</th>\n",
              "      <th>age</th>\n",
              "      <th></th>\n",
              "      <th></th>\n",
              "      <th></th>\n",
              "    </tr>\n",
              "  </thead>\n",
              "  <tbody>\n",
              "    <tr>\n",
              "      <th rowspan=\"2\" valign=\"top\">female</th>\n",
              "      <th>(0, 18]</th>\n",
              "      <td>0.909091</td>\n",
              "      <td>1.000000</td>\n",
              "      <td>0.511628</td>\n",
              "    </tr>\n",
              "    <tr>\n",
              "      <th>(18, 80]</th>\n",
              "      <td>0.972973</td>\n",
              "      <td>0.900000</td>\n",
              "      <td>0.423729</td>\n",
              "    </tr>\n",
              "    <tr>\n",
              "      <th rowspan=\"2\" valign=\"top\">male</th>\n",
              "      <th>(0, 18]</th>\n",
              "      <td>0.800000</td>\n",
              "      <td>0.600000</td>\n",
              "      <td>0.215686</td>\n",
              "    </tr>\n",
              "    <tr>\n",
              "      <th>(18, 80]</th>\n",
              "      <td>0.375000</td>\n",
              "      <td>0.071429</td>\n",
              "      <td>0.133663</td>\n",
              "    </tr>\n",
              "  </tbody>\n",
              "</table>\n",
              "</div>"
            ],
            "text/plain": [
              "class               First    Second     Third\n",
              "sex    age                                   \n",
              "female (0, 18]   0.909091  1.000000  0.511628\n",
              "       (18, 80]  0.972973  0.900000  0.423729\n",
              "male   (0, 18]   0.800000  0.600000  0.215686\n",
              "       (18, 80]  0.375000  0.071429  0.133663"
            ]
          },
          "metadata": {
            "tags": []
          },
          "execution_count": 190
        }
      ]
    },
    {
      "cell_type": "code",
      "metadata": {
        "id": "uRnqNXL-oZ59",
        "colab_type": "code",
        "outputId": "95fa92bd-ca55-467a-c2d3-00ee2e772000",
        "colab": {
          "base_uri": "https://localhost:8080/",
          "height": 295
        }
      },
      "source": [
        "#Plot the Prices Paid Of Each Class\n",
        "  plt.scatter(titanic['fare'], titanic['class'],  color = 'purple', label='Passenger Paid')\n",
        "  plt.ylabel('Class')\n",
        "  plt.xlabel('Price / Fare')\n",
        "  plt.title('Price Of Each Class')\n",
        "  plt.legend()\n",
        "  plt.show()"
      ],
      "execution_count": 0,
      "outputs": [
        {
          "output_type": "display_data",
          "data": {
            "image/png": "[encoded data removed]",
            "text/plain": [
              "<Figure size 432x288 with 1 Axes>"
            ]
          },
          "metadata": {
            "tags": []
          }
        }
      ]
    },
    {
      "cell_type": "code",
      "metadata": {
        "id": "ndBmaDPhq6_9",
        "colab_type": "code",
        "outputId": "f06938ca-8942-48c0-c908-5a88100257ef",
        "colab": {
          "base_uri": "https://localhost:8080/",
          "height": 316
        }
      },
      "source": [
        "#Count the empty (NaN, NAN, na) values in each column\n",
        "titanic.isna().sum()"
      ],
      "execution_count": 0,
      "outputs": [
        {
          "output_type": "execute_result",
          "data": {
            "text/plain": [
              "survived         0\n",
              "pclass           0\n",
              "sex              0\n",
              "age            177\n",
              "sibsp            0\n",
              "parch            0\n",
              "fare             0\n",
              "embarked         2\n",
              "class            0\n",
              "who              0\n",
              "adult_male       0\n",
              "deck           688\n",
              "embark_town      2\n",
              "alive            0\n",
              "alone            0\n",
              "dtype: int64"
            ]
          },
          "metadata": {
            "tags": []
          },
          "execution_count": 192
        }
      ]
    },
    {
      "cell_type": "code",
      "metadata": {
        "id": "YaJUgVDjq_3W",
        "colab_type": "code",
        "outputId": "248f44a2-c422-4f21-e149-54b21fc60941",
        "colab": {
          "base_uri": "https://localhost:8080/",
          "height": 1000
        }
      },
      "source": [
        "#Look at all of the values in each column & get a count\n",
        "for val in titanic:\n",
        "  print(titanic[val].value_counts())\n",
        "  print()"
      ],
      "execution_count": 0,
      "outputs": [
        {
          "output_type": "stream",
          "text": [
            "0    549\n",
            "1    342\n",
            "Name: survived, dtype: int64\n",
            "\n",
            "3    491\n",
            "1    216\n",
            "2    184\n",
            "Name: pclass, dtype: int64\n",
            "\n",
            "male      577\n",
            "female    314\n",
            "Name: sex, dtype: int64\n",
            "\n",
            "24.00    30\n",
            "22.00    27\n",
            "18.00    26\n",
            "19.00    25\n",
            "30.00    25\n",
            "         ..\n",
            "55.50     1\n",
            "70.50     1\n",
            "66.00     1\n",
            "23.50     1\n",
            "0.42      1\n",
            "Name: age, Length: 88, dtype: int64\n",
            "\n",
            "0    608\n",
            "1    209\n",
            "2     28\n",
            "4     18\n",
            "3     16\n",
            "8      7\n",
            "5      5\n",
            "Name: sibsp, dtype: int64\n",
            "\n",
            "0    678\n",
            "1    118\n",
            "2     80\n",
            "5      5\n",
            "3      5\n",
            "4      4\n",
            "6      1\n",
            "Name: parch, dtype: int64\n",
            "\n",
            "8.0500     43\n",
            "13.0000    42\n",
            "7.8958     38\n",
            "7.7500     34\n",
            "26.0000    31\n",
            "           ..\n",
            "8.4583      1\n",
            "9.8375      1\n",
            "8.3625      1\n",
            "14.1083     1\n",
            "17.4000     1\n",
            "Name: fare, Length: 248, dtype: int64\n",
            "\n",
            "S    644\n",
            "C    168\n",
            "Q     77\n",
            "Name: embarked, dtype: int64\n",
            "\n",
            "Third     491\n",
            "First     216\n",
            "Second    184\n",
            "Name: class, dtype: int64\n",
            "\n",
            "man      537\n",
            "woman    271\n",
            "child     83\n",
            "Name: who, dtype: int64\n",
            "\n",
            "True     537\n",
            "False    354\n",
            "Name: adult_male, dtype: int64\n",
            "\n",
            "C    59\n",
            "B    47\n",
            "D    33\n",
            "E    32\n",
            "A    15\n",
            "F    13\n",
            "G     4\n",
            "Name: deck, dtype: int64\n",
            "\n",
            "Southampton    644\n",
            "Cherbourg      168\n",
            "Queenstown      77\n",
            "Name: embark_town, dtype: int64\n",
            "\n",
            "no     549\n",
            "yes    342\n",
            "Name: alive, dtype: int64\n",
            "\n",
            "True     537\n",
            "False    354\n",
            "Name: alone, dtype: int64\n",
            "\n"
          ],
          "name": "stdout"
        }
      ]
    },
    {
      "cell_type": "code",
      "metadata": {
        "id": "O_vmz-WjrO-r",
        "colab_type": "code",
        "colab": {}
      },
      "source": [
        "# Drop / remove the columns\n",
        "titanic = titanic.drop(['deck', 'embark_town', 'alive', 'class', 'alone', 'adult_male', 'who'], axis=1)\n",
        "\n",
        "#Drop/remove the rows with missing values\n",
        "titanic = titanic.dropna(subset =['embarked', 'age'])"
      ],
      "execution_count": 0,
      "outputs": []
    },
    {
      "cell_type": "code",
      "metadata": {
        "id": "NGiE8CJ9rSQc",
        "colab_type": "code",
        "outputId": "cc8fee89-b0e4-4d0c-d2de-e6ce0d4eb3bf",
        "colab": {
          "base_uri": "https://localhost:8080/",
          "height": 36
        }
      },
      "source": [
        "#Count the NEW number of rows and columns in the data set\n",
        "titanic.shape"
      ],
      "execution_count": 0,
      "outputs": [
        {
          "output_type": "execute_result",
          "data": {
            "text/plain": [
              "(712, 8)"
            ]
          },
          "metadata": {
            "tags": []
          },
          "execution_count": 195
        }
      ]
    },
    {
      "cell_type": "code",
      "metadata": {
        "id": "TM3qselBrVWz",
        "colab_type": "code",
        "outputId": "26e74476-15ad-40f5-c190-0a3748b2c254",
        "colab": {
          "base_uri": "https://localhost:8080/",
          "height": 185
        }
      },
      "source": [
        "#Look at the data types to see which columns need to be transformed / encoded to a number\n",
        "titanic.dtypes"
      ],
      "execution_count": 0,
      "outputs": [
        {
          "output_type": "execute_result",
          "data": {
            "text/plain": [
              "survived      int64\n",
              "pclass        int64\n",
              "sex          object\n",
              "age         float64\n",
              "sibsp         int64\n",
              "parch         int64\n",
              "fare        float64\n",
              "embarked     object\n",
              "dtype: object"
            ]
          },
          "metadata": {
            "tags": []
          },
          "execution_count": 196
        }
      ]
    },
    {
      "cell_type": "code",
      "metadata": {
        "id": "eKLmw1RbrY58",
        "colab_type": "code",
        "outputId": "4fa71546-3293-415a-de34-fb593c847f78",
        "colab": {
          "base_uri": "https://localhost:8080/",
          "height": 54
        }
      },
      "source": [
        "#Print the unique values in the columns\n",
        "print(titanic['sex'].unique())\n",
        "print(titanic['embarked'].unique())"
      ],
      "execution_count": 0,
      "outputs": [
        {
          "output_type": "stream",
          "text": [
            "['male' 'female']\n",
            "['S' 'C' 'Q']\n"
          ],
          "name": "stdout"
        }
      ]
    },
    {
      "cell_type": "code",
      "metadata": {
        "id": "Z7F8LNPOrgmb",
        "colab_type": "code",
        "outputId": "41a48529-45c2-4fef-feb1-34087000f44e",
        "colab": {
          "base_uri": "https://localhost:8080/",
          "height": 54
        }
      },
      "source": [
        "#Encoding categorical data values (Transforming object data types to integers)\n",
        "from sklearn.preprocessing import LabelEncoder\n",
        "labelencoder = LabelEncoder()\n",
        "\n",
        "#Encode sex column\n",
        "titanic.iloc[:,2]= labelencoder.fit_transform(titanic.iloc[:,2].values)\n",
        "#print(labelencoder.fit_transform(titanic.iloc[:,2].values))\n",
        "\n",
        "#Encode embarked\n",
        "titanic.iloc[:,7]= labelencoder.fit_transform(titanic.iloc[:,7].values)\n",
        "#print(labelencoder.fit_transform(titanic.iloc[:,7].values))\n",
        "\n",
        "#Print the NEW unique values in the columns\n",
        "print(titanic['sex'].unique())\n",
        "print(titanic['embarked'].unique())"
      ],
      "execution_count": 0,
      "outputs": [
        {
          "output_type": "stream",
          "text": [
            "[1 0]\n",
            "[2 0 1]\n"
          ],
          "name": "stdout"
        }
      ]
    },
    {
      "cell_type": "code",
      "metadata": {
        "id": "CX3ra3oTrmID",
        "colab_type": "code",
        "outputId": "bff93006-6c52-4cf3-96b4-26720b5aaa26",
        "colab": {
          "base_uri": "https://localhost:8080/",
          "height": 185
        }
      },
      "source": [
        "#Look at the NEW data types\n",
        "titanic.dtypes"
      ],
      "execution_count": 0,
      "outputs": [
        {
          "output_type": "execute_result",
          "data": {
            "text/plain": [
              "survived      int64\n",
              "pclass        int64\n",
              "sex           int64\n",
              "age         float64\n",
              "sibsp         int64\n",
              "parch         int64\n",
              "fare        float64\n",
              "embarked      int64\n",
              "dtype: object"
            ]
          },
          "metadata": {
            "tags": []
          },
          "execution_count": 199
        }
      ]
    },
    {
      "cell_type": "code",
      "metadata": {
        "id": "5PiGeEHvrrie",
        "colab_type": "code",
        "colab": {}
      },
      "source": [
        "#Split the data into independent 'X' and dependent 'Y' variables\n",
        "X = titanic.iloc[:, 1:8].values #Notice I started from index  1 to 7, essentially removing the first column\n",
        "Y = titanic.iloc[:, 0].values #Get the target variable"
      ],
      "execution_count": 0,
      "outputs": []
    },
    {
      "cell_type": "code",
      "metadata": {
        "id": "lq-GZPtdrsWJ",
        "colab_type": "code",
        "colab": {}
      },
      "source": [
        "# Split the dataset into 80% Training set and 20% Testing set\n",
        "from sklearn.model_selection import train_test_split\n",
        "X_train, X_test, Y_train, Y_test = train_test_split(X, Y, test_size = 0.2, random_state = 0)"
      ],
      "execution_count": 0,
      "outputs": []
    },
    {
      "cell_type": "code",
      "metadata": {
        "id": "n87ZFeRdru9b",
        "colab_type": "code",
        "colab": {}
      },
      "source": [
        "# Scale the data to bring all features to the same level of magnitude\n",
        "# This means the data will be within a specific range for example 0 -100 or 0 - 1\n",
        "\n",
        "#Feature Scaling\n",
        "from sklearn.preprocessing import StandardScaler\n",
        "sc = StandardScaler()\n",
        "X_train = sc.fit_transform(X_train)\n",
        "X_test = sc.transform(X_test)"
      ],
      "execution_count": 0,
      "outputs": []
    },
    {
      "cell_type": "code",
      "metadata": {
        "id": "4vQixNzyrzq1",
        "colab_type": "code",
        "colab": {}
      },
      "source": [
        "#Create a function within many Machine Learning Models\n",
        "def models(X_train,Y_train):\n",
        "  \n",
        "  #Using Logistic Regression Algorithm to the Training Set\n",
        "  from sklearn.linear_model import LogisticRegression\n",
        "  log = LogisticRegression(random_state = 0)\n",
        "  log.fit(X_train, Y_train)\n",
        "  \n",
        "  #Using KNeighborsClassifier Method of neighbors class to use Nearest Neighbor algorithm\n",
        "  from sklearn.neighbors import KNeighborsClassifier\n",
        "  knn = KNeighborsClassifier(n_neighbors = 5, metric = 'minkowski', p = 2)\n",
        "  knn.fit(X_train, Y_train)\n",
        "\n",
        "  #Using SVC method of svm class to use Support Vector Machine Algorithm\n",
        "  from sklearn.svm import SVC\n",
        "  svc_lin = SVC(kernel = 'linear', random_state = 0)\n",
        "  svc_lin.fit(X_train, Y_train)\n",
        "\n",
        "  #Using SVC method of svm class to use Kernel SVM Algorithm\n",
        "  from sklearn.svm import SVC\n",
        "  svc_rbf = SVC(kernel = 'rbf', random_state = 0)\n",
        "  svc_rbf.fit(X_train, Y_train)\n",
        "\n",
        "  #Using GaussianNB method of naïve_bayes class to use Naïve Bayes Algorithm\n",
        "  from sklearn.naive_bayes import GaussianNB\n",
        "  gauss = GaussianNB()\n",
        "  gauss.fit(X_train, Y_train)\n",
        "\n",
        "  #Using DecisionTreeClassifier of tree class to use Decision Tree Algorithm\n",
        "  from sklearn.tree import DecisionTreeClassifier\n",
        "  tree = DecisionTreeClassifier(criterion = 'entropy', random_state = 0)\n",
        "  tree.fit(X_train, Y_train)\n",
        "\n",
        "  #Using RandomForestClassifier method of ensemble class to use Random Forest Classification algorithm\n",
        "  from sklearn.ensemble import RandomForestClassifier\n",
        "  forest = RandomForestClassifier(n_estimators = 10, criterion = 'entropy', random_state = 0)\n",
        "  forest.fit(X_train, Y_train)\n",
        "  \n",
        "  #print model accuracy on the training data.\n",
        "  print('[0]Logistic Regression Training Accuracy:', log.score(X_train, Y_train))\n",
        "  print('[1]K Nearest Neighbor Training Accuracy:', knn.score(X_train, Y_train))\n",
        "  print('[2]Support Vector Machine (Linear Classifier) Training Accuracy:', svc_lin.score(X_train, Y_train))\n",
        "  print('[3]Support Vector Machine (RBF Classifier) Training Accuracy:', svc_rbf.score(X_train, Y_train))\n",
        "  print('[4]Gaussian Naive Bayes Training Accuracy:', gauss.score(X_train, Y_train))\n",
        "  print('[5]Decision Tree Classifier Training Accuracy:', tree.score(X_train, Y_train))\n",
        "  print('[6]Random Forest Classifier Training Accuracy:', forest.score(X_train, Y_train))\n",
        "  \n",
        "  return log, knn, svc_lin, svc_rbf, gauss, tree, forest"
      ],
      "execution_count": 0,
      "outputs": []
    },
    {
      "cell_type": "code",
      "metadata": {
        "id": "bL6t8mWLr3ls",
        "colab_type": "code",
        "outputId": "b966ae3c-0ec6-4d04-97ca-63be4e127f69",
        "colab": {
          "base_uri": "https://localhost:8080/",
          "height": 205
        }
      },
      "source": [
        "#Get and train all of the models\n",
        "model = models(X_train,Y_train)"
      ],
      "execution_count": 0,
      "outputs": [
        {
          "output_type": "stream",
          "text": [
            "[0]Logistic Regression Training Accuracy: 0.7978910369068541\n",
            "[1]K Nearest Neighbor Training Accuracy: 0.8664323374340949\n",
            "[2]Support Vector Machine (Linear Classifier) Training Accuracy: 0.7768014059753954\n",
            "[3]Support Vector Machine (RBF Classifier) Training Accuracy: 0.8506151142355008\n",
            "[4]Gaussian Naive Bayes Training Accuracy: 0.8031634446397188\n",
            "[5]Decision Tree Classifier Training Accuracy: 0.9929701230228472\n",
            "[6]Random Forest Classifier Training Accuracy: 0.9753954305799648\n"
          ],
          "name": "stdout"
        },
        {
          "output_type": "stream",
          "text": [
            "/usr/local/lib/python3.6/dist-packages/sklearn/linear_model/logistic.py:432: FutureWarning: Default solver will be changed to 'lbfgs' in 0.22. Specify a solver to silence this warning.\n",
            "  FutureWarning)\n"
          ],
          "name": "stderr"
        }
      ]
    },
    {
      "cell_type": "code",
      "metadata": {
        "id": "GFiq05U7r7FU",
        "colab_type": "code",
        "outputId": "f66abc46-dae4-4481-a09a-70fbfdb814c8",
        "colab": {
          "base_uri": "https://localhost:8080/",
          "height": 541
        }
      },
      "source": [
        "#Show the confusion matrix and accuracy for all of the models on the test data\n",
        "#Classification accuracy is the ratio of correct predictions to total predictions made.\n",
        "from sklearn.metrics import confusion_matrix\n",
        "for i in range(len(model)):\n",
        "  cm = confusion_matrix(Y_test, model[i].predict(X_test))\n",
        "\n",
        "  #extracting true_positives, false_positives, true_negatives, false_negatives\n",
        "  TN, FP, FN, TP = confusion_matrix(Y_test, model[i].predict(X_test)).ravel()\n",
        "\n",
        "  print(cm)\n",
        "  print('Model[{}] Testing Accuracy = \"{} !\"'.format(i,  (TP + TN) / (TP + TN + FN + FP)))\n",
        "  print()# Print a new line"
      ],
      "execution_count": 0,
      "outputs": [
        {
          "output_type": "stream",
          "text": [
            "[[73  9]\n",
            " [18 43]]\n",
            "Model[0] Testing Accuracy = \"0.8111888111888111 !\"\n",
            "\n",
            "[[71 11]\n",
            " [20 41]]\n",
            "Model[1] Testing Accuracy = \"0.7832167832167832 !\"\n",
            "\n",
            "[[70 12]\n",
            " [18 43]]\n",
            "Model[2] Testing Accuracy = \"0.7902097902097902 !\"\n",
            "\n",
            "[[75  7]\n",
            " [22 39]]\n",
            "Model[3] Testing Accuracy = \"0.7972027972027972 !\"\n",
            "\n",
            "[[69 13]\n",
            " [23 38]]\n",
            "Model[4] Testing Accuracy = \"0.7482517482517482 !\"\n",
            "\n",
            "[[60 22]\n",
            " [10 51]]\n",
            "Model[5] Testing Accuracy = \"0.7762237762237763 !\"\n",
            "\n",
            "[[67 15]\n",
            " [13 48]]\n",
            "Model[6] Testing Accuracy = \"0.8041958041958042 !\"\n",
            "\n"
          ],
          "name": "stdout"
        }
      ]
    },
    {
      "cell_type": "code",
      "metadata": {
        "id": "6t6_k712r94n",
        "colab_type": "code",
        "outputId": "b1b51075-dba4-4d11-96ba-5941730ab80b",
        "colab": {
          "base_uri": "https://localhost:8080/",
          "height": 300
        }
      },
      "source": [
        "#Get the importance of the features\n",
        "forest = model[6]\n",
        "importances = pd.DataFrame({'feature':titanic.iloc[:, 1:8].columns,'importance':np.round(forest.feature_importances_,3)})\n",
        "importances = importances.sort_values('importance',ascending=False).set_index('feature')\n",
        "importances"
      ],
      "execution_count": 0,
      "outputs": [
        {
          "output_type": "execute_result",
          "data": {
            "text/html": [
              "<div>\n",
              "<style scoped>\n",
              "    .dataframe tbody tr th:only-of-type {\n",
              "        vertical-align: middle;\n",
              "    }\n",
              "\n",
              "    .dataframe tbody tr th {\n",
              "        vertical-align: top;\n",
              "    }\n",
              "\n",
              "    .dataframe thead th {\n",
              "        text-align: right;\n",
              "    }\n",
              "</style>\n",
              "<table border=\"1\" class=\"dataframe\">\n",
              "  <thead>\n",
              "    <tr style=\"text-align: right;\">\n",
              "      <th></th>\n",
              "      <th>importance</th>\n",
              "    </tr>\n",
              "    <tr>\n",
              "      <th>feature</th>\n",
              "      <th></th>\n",
              "    </tr>\n",
              "  </thead>\n",
              "  <tbody>\n",
              "    <tr>\n",
              "      <th>age</th>\n",
              "      <td>0.300</td>\n",
              "    </tr>\n",
              "    <tr>\n",
              "      <th>fare</th>\n",
              "      <td>0.296</td>\n",
              "    </tr>\n",
              "    <tr>\n",
              "      <th>sex</th>\n",
              "      <td>0.183</td>\n",
              "    </tr>\n",
              "    <tr>\n",
              "      <th>pclass</th>\n",
              "      <td>0.098</td>\n",
              "    </tr>\n",
              "    <tr>\n",
              "      <th>sibsp</th>\n",
              "      <td>0.050</td>\n",
              "    </tr>\n",
              "    <tr>\n",
              "      <th>parch</th>\n",
              "      <td>0.044</td>\n",
              "    </tr>\n",
              "    <tr>\n",
              "      <th>embarked</th>\n",
              "      <td>0.030</td>\n",
              "    </tr>\n",
              "  </tbody>\n",
              "</table>\n",
              "</div>"
            ],
            "text/plain": [
              "          importance\n",
              "feature             \n",
              "age            0.300\n",
              "fare           0.296\n",
              "sex            0.183\n",
              "pclass         0.098\n",
              "sibsp          0.050\n",
              "parch          0.044\n",
              "embarked       0.030"
            ]
          },
          "metadata": {
            "tags": []
          },
          "execution_count": 206
        }
      ]
    },
    {
      "cell_type": "code",
      "metadata": {
        "id": "oFxZQ1CvsAMC",
        "colab_type": "code",
        "outputId": "0b86a8b9-9688-4b6a-9968-485784edbd24",
        "colab": {
          "base_uri": "https://localhost:8080/",
          "height": 339
        }
      },
      "source": [
        "#Visualize the importance\n",
        "importances.plot.bar()"
      ],
      "execution_count": 0,
      "outputs": [
        {
          "output_type": "execute_result",
          "data": {
            "text/plain": [
              "<matplotlib.axes._subplots.AxesSubplot at 0x7f01da565fd0>"
            ]
          },
          "metadata": {
            "tags": []
          },
          "execution_count": 207
        },
        {
          "output_type": "display_data",
          "data": {
            "image/png": "[encoded data removed]",
            "text/plain": [
              "<Figure size 432x288 with 1 Axes>"
            ]
          },
          "metadata": {
            "tags": []
          }
        }
      ]
    },
    {
      "cell_type": "code",
      "metadata": {
        "id": "tY-C4EXVsCmb",
        "colab_type": "code",
        "outputId": "0f412232-5eb2-43f7-b2e6-cd1f1e74ca74",
        "colab": {
          "base_uri": "https://localhost:8080/",
          "height": 185
        }
      },
      "source": [
        "#Print Prediction of Random Forest Classifier model\n",
        "pred = model[6].predict(X_test)\n",
        "print(pred)\n",
        "\n",
        "#Print a space\n",
        "print()\n",
        "\n",
        "#Print the actual values\n",
        "print(Y_test)"
      ],
      "execution_count": 0,
      "outputs": [
        {
          "output_type": "stream",
          "text": [
            "[1 1 1 0 0 0 1 0 0 1 1 1 1 0 0 1 0 1 0 0 1 1 1 1 0 0 0 0 0 0 0 0 0 1 1 1 1\n",
            " 1 1 0 0 0 1 0 1 0 1 0 0 1 1 0 1 0 1 0 0 1 1 1 0 0 0 1 0 0 1 0 1 1 1 1 1 1\n",
            " 0 0 1 0 0 0 0 1 0 1 1 0 0 0 1 0 0 0 1 1 1 0 1 1 0 0 0 1 0 0 0 0 1 0 0 0 1\n",
            " 0 1 1 0 1 0 0 0 0 0 0 0 1 0 0 0 0 0 1 0 1 1 1 1 1 1 0 0 0 0 0 1]\n",
            "\n",
            "[0 0 1 0 0 0 1 0 0 0 1 1 1 0 0 1 0 1 1 0 0 1 1 1 0 0 0 0 1 0 0 0 0 1 1 0 1\n",
            " 1 1 1 1 1 0 0 0 0 1 0 0 1 1 0 1 0 0 0 0 0 1 0 0 0 0 1 0 0 1 1 0 1 0 1 1 1\n",
            " 0 0 1 1 0 0 0 1 1 1 1 0 0 0 1 0 0 0 1 1 1 0 1 1 0 1 0 1 0 0 0 0 1 0 0 0 0\n",
            " 1 1 1 0 0 1 0 0 1 0 0 0 0 0 0 0 0 0 1 1 1 1 1 1 1 1 0 0 0 0 0 1]\n"
          ],
          "name": "stdout"
        }
      ]
    },
    {
      "cell_type": "code",
      "metadata": {
        "id": "Dzu-z2BvsEgy",
        "colab_type": "code",
        "outputId": "535ebe91-d224-42c7-9819-a9722ef3a54b",
        "colab": {
          "base_uri": "https://localhost:8080/",
          "height": 54
        }
      },
      "source": [
        "# Given the data points would I have survived ? \n",
        "# Most likely I would've been in 3rd class (pclass = 3), Im a male (sex = 1), age is older than 18 (age = 21), no siblings onboard (sibsp = 0), \n",
        "#no parents or children (parch =0), fare the minimum price (fare = 0), embarked queens town = (embarked =1)\n",
        "my_survival = [[3,1,21,0, 0, 0, 1]]\n",
        "\n",
        "#uncomment to see all of the models predictions\n",
        "#for i in range(len(model)):\n",
        "#  pred = model[i].predict(my_survival)\n",
        "#  print(pred)\n",
        "\n",
        "\n",
        "#Print Prediction of Random Forest Classifier model\n",
        "pred = model[6].predict(my_survival)\n",
        "print(pred)\n",
        "\n",
        "if pred == 0:\n",
        "  print('Oh no! You didn’t make it')\n",
        "else:\n",
        "  print('Nice! You survived')"
      ],
      "execution_count": 0,
      "outputs": [
        {
          "output_type": "stream",
          "text": [
            "[0]\n",
            "Oh no! You didn’t make it\n"
          ],
          "name": "stdout"
        }
      ]
    }
  ]
}